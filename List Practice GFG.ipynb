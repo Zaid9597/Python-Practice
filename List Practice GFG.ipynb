{
 "cells": [
  {
   "cell_type": "markdown",
   "metadata": {},
   "source": [
    "# Python program to interchange first and last elements in a list"
   ]
  },
  {
   "cell_type": "code",
   "execution_count": 2,
   "metadata": {},
   "outputs": [
    {
     "name": "stdout",
     "output_type": "stream",
     "text": [
      "n:3\n",
      "Enter the element:1\n",
      "Enter the element:2\n",
      "Enter the element:5\n",
      "Original list: \n",
      " [1, 2, 5]\n",
      "The modified list: [5, 2, 1]\n"
     ]
    }
   ],
   "source": [
    "a=[]\n",
    "n=int(input(\"n:\"))\n",
    "for i in range(n):\n",
    "    a.append(int(input(\"Enter the element:\")))\n",
    "print(\"Original list: \\n\",a)\n",
    "temp=a[0]\n",
    "a[0]=a[-1]\n",
    "a[-1]=temp\n",
    "print(\"The modified list:\",a)"
   ]
  },
  {
   "cell_type": "markdown",
   "metadata": {},
   "source": [
    "# Python program to swap two elements in a list"
   ]
  },
  {
   "cell_type": "code",
   "execution_count": 3,
   "metadata": {},
   "outputs": [
    {
     "name": "stdout",
     "output_type": "stream",
     "text": [
      "n:5\n",
      "Enter the element:1\n",
      "Enter the element:2\n",
      "Enter the element:3\n",
      "Enter the element:4\n",
      "Enter the element:5\n",
      "Original list: \n",
      " [1, 2, 3, 4, 5]\n",
      "Enter the first element to be swapped: 2\n",
      "Enter the second element to be swapped: 4\n",
      "List after swapping: \n",
      " [1, 4, 3, 2, 5]\n"
     ]
    }
   ],
   "source": [
    "# Swap any two elements in a list (using elements):\n",
    "\n",
    "a=[]\n",
    "n=int(input(\"n:\"))\n",
    "for i in range(n):\n",
    "    a.append(int(input(\"Enter the element:\")))\n",
    "print(\"Original list: \\n\",a)\n",
    "num1=int(input(\"Enter the first element to be swapped: \"))\n",
    "num2=int(input(\"Enter the second element to be swapped: \"))\n",
    "pos1=a.index(num1)\n",
    "pos2=a.index(num2)\n",
    "temp=a[pos1]\n",
    "a[pos1]=a[pos2]\n",
    "a[pos2]=temp\n",
    "print(\"List after swapping: \\n\",a)"
   ]
  },
  {
   "cell_type": "code",
   "execution_count": 4,
   "metadata": {},
   "outputs": [
    {
     "name": "stdout",
     "output_type": "stream",
     "text": [
      "n:5\n",
      "Enter the element:1\n",
      "Enter the element:2\n",
      "Enter the element:3\n",
      "Enter the element:6\n",
      "Enter the element:9\n",
      "Original list: \n",
      " [1, 2, 3, 6, 9]\n",
      "Enter the position of first element to be swapped: 2\n",
      "Enter the position of second element to be swapped: 4\n",
      "List after swapping: \n",
      " [1, 6, 3, 2, 9]\n"
     ]
    }
   ],
   "source": [
    "# Swap any two elements in a list (using indexes):\n",
    "# Index range starts from 1:\n",
    "\n",
    "a=[]\n",
    "n=int(input(\"n:\"))\n",
    "for i in range(n):\n",
    "    a.append(int(input(\"Enter the element:\")))\n",
    "print(\"Original list: \\n\",a)\n",
    "pos1=int(input(\"Enter the position of first element to be swapped: \"))\n",
    "pos2=int(input(\"Enter the position of second element to be swapped: \"))\n",
    "temp=a[pos1-1]\n",
    "a[pos1-1]=a[pos2-1]\n",
    "a[pos2-1]=temp\n",
    "print(\"List after swapping: \\n\",a)"
   ]
  },
  {
   "cell_type": "markdown",
   "metadata": {},
   "source": [
    "# Find length of list"
   ]
  },
  {
   "cell_type": "code",
   "execution_count": 5,
   "metadata": {},
   "outputs": [
    {
     "name": "stdout",
     "output_type": "stream",
     "text": [
      "The length of the string is  7\n"
     ]
    }
   ],
   "source": [
    "a=[1,2,5,3,5,0,8]\n",
    "length=len(a)\n",
    "print(\"The length of the string is \",length)"
   ]
  },
  {
   "cell_type": "markdown",
   "metadata": {},
   "source": [
    "# Check if element exists in list:"
   ]
  },
  {
   "cell_type": "code",
   "execution_count": 6,
   "metadata": {},
   "outputs": [
    {
     "name": "stdout",
     "output_type": "stream",
     "text": [
      "n:5\n",
      "Enter the element:1\n",
      "Enter the element:6\n",
      "Enter the element:3\n",
      "Enter the element:4\n",
      "Enter the element:6\n",
      "Original list: \n",
      " [1, 6, 3, 4, 6]\n",
      "Enter the element you wish to search:6\n",
      "6  exists in the list at position 2\n"
     ]
    }
   ],
   "source": [
    "a=[]\n",
    "flag=False\n",
    "n=int(input(\"n:\"))\n",
    "for i in range(n):\n",
    "    a.append(int(input(\"Enter the element:\")))\n",
    "print(\"Original list: \\n\",a)\n",
    "num=int(input(\"Enter the element you wish to search:\"))\n",
    "for i in range(n):\n",
    "    if a[i]==num:\n",
    "        flag=True\n",
    "        j=i\n",
    "        break\n",
    "if flag:\n",
    "    print(num,\" exists in the list at position\",j+1)\n",
    "else:\n",
    "    print(num,\" doesn't exist in the list\")"
   ]
  },
  {
   "cell_type": "markdown",
   "metadata": {},
   "source": [
    "# Different ways to clear a list in Python:"
   ]
  },
  {
   "cell_type": "code",
   "execution_count": 7,
   "metadata": {},
   "outputs": [
    {
     "name": "stdout",
     "output_type": "stream",
     "text": [
      "[1, 4, 3, 5, 6]\n",
      "[]\n"
     ]
    }
   ],
   "source": [
    "a=[1,4,3,5,6]\n",
    "print(a)\n",
    "a.clear()\n",
    "print(a)"
   ]
  },
  {
   "cell_type": "code",
   "execution_count": 10,
   "metadata": {},
   "outputs": [
    {
     "name": "stdout",
     "output_type": "stream",
     "text": [
      "[1, 2, 3, 4, 5]\n",
      "[]\n"
     ]
    }
   ],
   "source": [
    "a=[1,2,3,4,5]\n",
    "print(a)\n",
    "a*=0\n",
    "print(a)"
   ]
  },
  {
   "cell_type": "code",
   "execution_count": 12,
   "metadata": {},
   "outputs": [
    {
     "name": "stdout",
     "output_type": "stream",
     "text": [
      "[1, 2, 3, 4, 5]\n",
      "[]\n"
     ]
    }
   ],
   "source": [
    "a=[1,2,3,4,5]\n",
    "print(a)\n",
    "del a[:]\n",
    "print(a)"
   ]
  },
  {
   "cell_type": "markdown",
   "metadata": {},
   "source": [
    "# Reversing a List in Python"
   ]
  },
  {
   "cell_type": "code",
   "execution_count": 13,
   "metadata": {},
   "outputs": [
    {
     "name": "stdout",
     "output_type": "stream",
     "text": [
      "n:5\n",
      "Enter the element:1\n",
      "Enter the element:2\n",
      "Enter the element:3\n",
      "Enter the element:4\n",
      "Enter the element:5\n",
      "Original list: \n",
      " [1, 2, 3, 4, 5]\n",
      "The reversed list : \n",
      " [5, 4, 3, 2, 1]\n"
     ]
    }
   ],
   "source": [
    "## reverse a list:\n",
    "\n",
    "a=[]\n",
    "n=int(input(\"n:\"))\n",
    "for i in range(n):\n",
    "    a.append(int(input(\"Enter the element:\")))\n",
    "print(\"Original list: \\n\",a)\n",
    "print(\"The reversed list : \\n\",a[::-1])"
   ]
  },
  {
   "cell_type": "code",
   "execution_count": 28,
   "metadata": {},
   "outputs": [
    {
     "data": {
      "text/plain": [
       "[5, 4, 3, 2, 1]"
      ]
     },
     "execution_count": 28,
     "metadata": {},
     "output_type": "execute_result"
    }
   ],
   "source": [
    "a=[1,2,3,4,5]\n",
    "a.reverse()\n",
    "a"
   ]
  },
  {
   "cell_type": "markdown",
   "metadata": {},
   "source": [
    "# Cloning or Copying a list:"
   ]
  },
  {
   "cell_type": "code",
   "execution_count": 15,
   "metadata": {},
   "outputs": [
    {
     "name": "stdout",
     "output_type": "stream",
     "text": [
      "n:5\n",
      "Enter the element:1\n",
      "Enter the element:2\n",
      "Enter the element:3\n",
      "Enter the element:4\n",
      "Enter the element:5\n",
      "Original list: [1, 2, 3, 4, 5]\n",
      "[1, 2, 3, 4, 5]\n"
     ]
    }
   ],
   "source": [
    "#Using slicing\n",
    "\n",
    "a=[] \n",
    "n=int(input(\"n:\"))\n",
    "for i in range(n):\n",
    "    a.append(int(input(\"Enter the element:\")))\n",
    "print(\"Original list:\",a)\n",
    "b=a[:]\n",
    "print(b)"
   ]
  },
  {
   "cell_type": "code",
   "execution_count": 17,
   "metadata": {},
   "outputs": [
    {
     "name": "stdout",
     "output_type": "stream",
     "text": [
      "a: [1, 2, 3, 4, 5]\n",
      "b: [1, 2, 3, 4, 5]\n"
     ]
    }
   ],
   "source": [
    "# Using append in for loop\n",
    "\n",
    "a=[1,2,3,4,5]\n",
    "print(\"a:\",a)\n",
    "b=[]\n",
    "for i in a:\n",
    "    b.append(i)\n",
    "print(\"b:\",b)"
   ]
  },
  {
   "cell_type": "markdown",
   "metadata": {},
   "source": [
    "# Count occurrences of an element in a list:"
   ]
  },
  {
   "cell_type": "code",
   "execution_count": 22,
   "metadata": {},
   "outputs": [
    {
     "name": "stdout",
     "output_type": "stream",
     "text": [
      "n:3\n",
      "Enter the element:1\n",
      "Enter the element:1\n",
      "Enter the element:1\n",
      "Original list: \n",
      " [1, 1, 1]\n",
      "Enter the element whose occurrences you wish to count: 1\n",
      "Count: 3\n",
      "Do you wanna continue?\n",
      " 1. Yes \t 2. No\n",
      "1\n",
      "n:2\n",
      "Enter the element:3\n",
      "Enter the element:4\n",
      "Original list: \n",
      " [3, 4]\n",
      "Enter the element whose occurrences you wish to count: 3\n",
      "Count: 1\n",
      "Do you wanna continue?\n",
      " 1. Yes \t 2. No\n",
      "2\n"
     ]
    }
   ],
   "source": [
    "q=1\n",
    "while(q==1):\n",
    "    a=[]\n",
    "    n=int(input(\"n:\"))\n",
    "    for i in range(n):\n",
    "        a.append(int(input(\"Enter the element:\")))\n",
    "    print(\"Original list: \\n\",a)\n",
    "    num=int(input(\"Enter the element whose occurrences you wish to count: \"))\n",
    "    count=0\n",
    "    for i in a:\n",
    "        if i==num:\n",
    "            count+=1\n",
    "    print(\"Count:\",count)\n",
    "    q=int(input(\"Do you wanna continue?\\n 1. Yes \\t 2. No\\n\"))\n",
    "    "
   ]
  },
  {
   "cell_type": "markdown",
   "metadata": {},
   "source": [
    "# Find sum and average of List in Python:"
   ]
  },
  {
   "cell_type": "code",
   "execution_count": 41,
   "metadata": {},
   "outputs": [
    {
     "name": "stdout",
     "output_type": "stream",
     "text": [
      "n:6\n",
      "Enter the element:12\n",
      "Enter the element:13\n",
      "Enter the element:14\n",
      "Enter the element:15\n",
      "Enter the element:16\n",
      "Enter the element:17\n",
      "Original list: \n",
      " [12, 13, 14, 15, 16, 17]\n",
      "The sum of elements:  87\n",
      "The average of elements:  14.5\n"
     ]
    }
   ],
   "source": [
    "a=[]\n",
    "n=int(input(\"n:\"))\n",
    "for i in range(n):\n",
    "    a.append(int(input(\"Enter the element:\")))\n",
    "print(\"Original list: \\n\",a)\n",
    "sum=0\n",
    "for i in a:\n",
    "    sum+=i\n",
    "print(\"The sum of elements: \",sum)\n",
    "print(\"The average of elements: \",sum/n)\n",
    "    "
   ]
  },
  {
   "cell_type": "markdown",
   "metadata": {},
   "source": [
    "# Sum of number digits in List"
   ]
  },
  {
   "cell_type": "code",
   "execution_count": 40,
   "metadata": {},
   "outputs": [
    {
     "name": "stdout",
     "output_type": "stream",
     "text": [
      "n:3\n",
      "Enter the element:12\n",
      "Enter the element:13\n",
      "Enter the element:12\n",
      "Original list:  [12, 13, 12]\n",
      "Sum of number digits in list: [3, 4, 3]\n"
     ]
    }
   ],
   "source": [
    "a=[]\n",
    "n=int(input(\"n:\"))\n",
    "for i in range(n):\n",
    "    a.append(int(input(\"Enter the element:\")))\n",
    "print(\"Original list: \",a)\n",
    "b=[]\n",
    "for i in a:\n",
    "    sum=0\n",
    "    while(i>0):\n",
    "        x=i%10\n",
    "        sum=sum+x\n",
    "        i//=10\n",
    "    b.append(sum)\n",
    "print(\"Sum of number digits in list:\",b)"
   ]
  },
  {
   "cell_type": "markdown",
   "metadata": {},
   "source": [
    "# Multiply all numbers in the list "
   ]
  },
  {
   "cell_type": "code",
   "execution_count": 49,
   "metadata": {},
   "outputs": [
    {
     "name": "stdout",
     "output_type": "stream",
     "text": [
      "n:3\n",
      "Enter the element:2\n",
      "Enter the element:4\n",
      "Enter the element:3\n",
      "Original list:  [2, 4, 3]\n",
      "The product of elemets in the list : 24\n"
     ]
    }
   ],
   "source": [
    "#Traversing the list:\n",
    "\n",
    "a=[]\n",
    "n=int(input(\"n:\"))\n",
    "for i in range(n):\n",
    "    a.append(int(input(\"Enter the element:\")))\n",
    "print(\"Original list: \",a)\n",
    "product=1\n",
    "for i in a:\n",
    "    product*=i\n",
    "print(\"The product of elemets in the list :\",product)"
   ]
  },
  {
   "cell_type": "code",
   "execution_count": 48,
   "metadata": {},
   "outputs": [
    {
     "name": "stdout",
     "output_type": "stream",
     "text": [
      "n:3\n",
      "Enter the element:3\n",
      "Enter the element:2\n",
      "Enter the element:4\n",
      "Original list:  [3, 2, 4]\n",
      "24\n"
     ]
    }
   ],
   "source": [
    "#Using numpy:\n",
    "\n",
    "import numpy as np\n",
    "\n",
    "a=[]\n",
    "n=int(input(\"n:\"))\n",
    "for i in range(n):\n",
    "    a.append(int(input(\"Enter the element:\")))\n",
    "print(\"Original list: \",a)\n",
    "product=np.prod(a)\n",
    "print(product)"
   ]
  },
  {
   "cell_type": "markdown",
   "metadata": {},
   "source": [
    "# Python program to find smallest number in a list"
   ]
  },
  {
   "cell_type": "code",
   "execution_count": 71,
   "metadata": {},
   "outputs": [
    {
     "name": "stdout",
     "output_type": "stream",
     "text": [
      "n:4\n",
      "Enter the element:23\n",
      "Enter the element:-9\n",
      "Enter the element:-3\n",
      "Enter the element:9\n",
      "Original list:  [23, -9, -3, 9]\n",
      "-9\n"
     ]
    }
   ],
   "source": [
    "a=[]\n",
    "n=int(input(\"n:\"))\n",
    "for i in range(n):\n",
    "    a.append(int(input(\"Enter the element:\")))\n",
    "print(\"Original list: \",a)\n",
    "small=a[0]\n",
    "for i in range(n):\n",
    "    if a[i]<small:\n",
    "        small=a[i]    \n",
    "print(small)"
   ]
  },
  {
   "cell_type": "markdown",
   "metadata": {},
   "source": [
    "# Python program to find largest number in a list"
   ]
  },
  {
   "cell_type": "code",
   "execution_count": 73,
   "metadata": {},
   "outputs": [
    {
     "name": "stdout",
     "output_type": "stream",
     "text": [
      "n:4\n",
      "Enter the element:23\n",
      "Enter the element:-9\n",
      "Enter the element:-3\n",
      "Enter the element:9\n",
      "Original list:  [23, -9, -3, 9]\n",
      "23\n"
     ]
    }
   ],
   "source": [
    "a=[]\n",
    "n=int(input(\"n:\"))\n",
    "for i in range(n):\n",
    "    a.append(int(input(\"Enter the element:\")))\n",
    "print(\"Original list: \",a)\n",
    "largest=a[0]\n",
    "for i in range(n):\n",
    "    if a[i]>largest:\n",
    "        largest=a[i]    \n",
    "print(largest)"
   ]
  },
  {
   "cell_type": "markdown",
   "metadata": {},
   "source": [
    "# Python program to find second largest number in a list"
   ]
  },
  {
   "cell_type": "code",
   "execution_count": 76,
   "metadata": {},
   "outputs": [
    {
     "name": "stdout",
     "output_type": "stream",
     "text": [
      "n:5\n",
      "Enter the element:3\n",
      "Enter the element:7\n",
      "Enter the element:67\n",
      "Enter the element:34\n",
      "Enter the element:2\n",
      "Original list:  [3, 7, 67, 34, 2]\n",
      "The second largest number is  34\n"
     ]
    }
   ],
   "source": [
    "a=[]\n",
    "n=int(input(\"n:\"))\n",
    "for i in range(n):\n",
    "    a.append(int(input(\"Enter the element:\")))\n",
    "print(\"Original list: \",a)\n",
    "a.sort()\n",
    "a.reverse()\n",
    "print(\"The second largest number is \",a[1])"
   ]
  },
  {
   "cell_type": "markdown",
   "metadata": {},
   "source": [
    "# Python program to print even numbers in a list"
   ]
  },
  {
   "cell_type": "code",
   "execution_count": 77,
   "metadata": {},
   "outputs": [
    {
     "name": "stdout",
     "output_type": "stream",
     "text": [
      "n:5\n",
      "Enter the element:3\n",
      "Enter the element:4\n",
      "Enter the element:2\n",
      "Enter the element:67\n",
      "Enter the element:78\n",
      "Original list:  [3, 4, 2, 67, 78]\n",
      "The list of even numbers:  [4, 2, 78]\n"
     ]
    }
   ],
   "source": [
    "a=[]\n",
    "b=[]\n",
    "n=int(input(\"n:\"))\n",
    "for i in range(n):\n",
    "    a.append(int(input(\"Enter the element:\")))\n",
    "print(\"Original list: \",a)\n",
    "for i in a:\n",
    "    if i%2==0:\n",
    "        b.append(i)\n",
    "print(\"The list of even numbers: \",b)"
   ]
  },
  {
   "cell_type": "markdown",
   "metadata": {},
   "source": [
    "# Python program to print odd numbers in a List"
   ]
  },
  {
   "cell_type": "code",
   "execution_count": 78,
   "metadata": {},
   "outputs": [
    {
     "name": "stdout",
     "output_type": "stream",
     "text": [
      "n:6\n",
      "Enter the element:2\n",
      "Enter the element:3\n",
      "Enter the element:4\n",
      "Enter the element:657\n",
      "Enter the element:45\n",
      "Enter the element:56\n",
      "Original list:  [2, 3, 4, 657, 45, 56]\n",
      "The list of odd numbers:  [3, 657, 45]\n"
     ]
    }
   ],
   "source": [
    "a=[]\n",
    "b=[]\n",
    "n=int(input(\"n:\"))\n",
    "for i in range(n):\n",
    "    a.append(int(input(\"Enter the element:\")))\n",
    "print(\"Original list: \",a)\n",
    "for i in a:\n",
    "    if i%2!=0:\n",
    "        b.append(i)\n",
    "print(\"The list of odd numbers: \",b)"
   ]
  },
  {
   "cell_type": "markdown",
   "metadata": {},
   "source": [
    "# Python program to print all even numbers in a range"
   ]
  },
  {
   "cell_type": "code",
   "execution_count": 96,
   "metadata": {},
   "outputs": [
    {
     "name": "stdout",
     "output_type": "stream",
     "text": [
      "Enter the start of range:10\n",
      "Enter the end of range:20\n",
      "The list of even numbers between 10 & 20 inclusive is [10, 12, 14, 16, 18, 20]\n"
     ]
    }
   ],
   "source": [
    "a=[]\n",
    "strt=int(input(\"Enter the start of range:\"))\n",
    "end=int(input(\"Enter the end of range:\"))\n",
    "for i in range(strt,end+1):\n",
    "    if i%2==0:\n",
    "        a.append(i)\n",
    "print(\"The list of even numbers between\",strt,\"&\",end,\"inclusive is\",a)"
   ]
  },
  {
   "cell_type": "markdown",
   "metadata": {},
   "source": [
    "# Python program to print all odd numbers in a range"
   ]
  },
  {
   "cell_type": "code",
   "execution_count": 85,
   "metadata": {},
   "outputs": [
    {
     "name": "stdout",
     "output_type": "stream",
     "text": [
      "Enter the start of range:11\n",
      "Enter the end of range:21\n",
      "The list of odd numbers between 11 & 21 inclusive is [11, 13, 15, 17, 19, 21]\n"
     ]
    }
   ],
   "source": [
    "a=[]\n",
    "strt=int(input(\"Enter the start of range:\"))\n",
    "end=int(input(\"Enter the end of range:\"))\n",
    "for i in range(strt,end+1):\n",
    "    if i%2!=0:\n",
    "        a.append(i)\n",
    "print(\"The list of odd numbers between\",strt,\"&\",end,\"inclusive is\",a)"
   ]
  },
  {
   "cell_type": "markdown",
   "metadata": {},
   "source": [
    "# Python program to count Even and Odd numbers in a List"
   ]
  },
  {
   "cell_type": "code",
   "execution_count": 86,
   "metadata": {},
   "outputs": [
    {
     "name": "stdout",
     "output_type": "stream",
     "text": [
      "n:5\n",
      "Enter the element:23\n",
      "Enter the element:34\n",
      "Enter the element:22\n",
      "Enter the element:45\n",
      "Enter the element:65\n",
      "Original list:  [23, 34, 22, 45, 65]\n",
      "The count of even numbers is 2\n",
      "The count of odd numbers is 3\n"
     ]
    }
   ],
   "source": [
    "a=[]\n",
    "n=int(input(\"n:\"))\n",
    "for i in range(n):\n",
    "    a.append(int(input(\"Enter the element:\")))\n",
    "print(\"Original list: \",a)\n",
    "count=0\n",
    "for i in a:\n",
    "    if i%2==0:\n",
    "        count+=1\n",
    "print(\"The count of even numbers is\",count)\n",
    "print(\"The count of odd numbers is\",n-count)"
   ]
  },
  {
   "cell_type": "markdown",
   "metadata": {},
   "source": [
    "# Python program to print positive numbers in a list"
   ]
  },
  {
   "cell_type": "code",
   "execution_count": 89,
   "metadata": {},
   "outputs": [
    {
     "name": "stdout",
     "output_type": "stream",
     "text": [
      "n:5\n",
      "Enter the element:3\n",
      "Enter the element:0\n",
      "Enter the element:-8\n",
      "Enter the element:4\n",
      "Enter the element:-9\n",
      "Original list:  [3, 0, -8, 4, -9]\n",
      "The list of positive numbers:  [3, 4]\n"
     ]
    }
   ],
   "source": [
    "a=[]\n",
    "b=[]\n",
    "n=int(input(\"n:\"))\n",
    "for i in range(n):\n",
    "    a.append(int(input(\"Enter the element:\")))\n",
    "print(\"Original list: \",a)\n",
    "for i in a:\n",
    "    if i>0:\n",
    "        b.append(i)\n",
    "print(\"The list of positive numbers: \",b)"
   ]
  },
  {
   "cell_type": "markdown",
   "metadata": {},
   "source": [
    "# Python program to print negative numbers in a list "
   ]
  },
  {
   "cell_type": "code",
   "execution_count": 90,
   "metadata": {},
   "outputs": [
    {
     "name": "stdout",
     "output_type": "stream",
     "text": [
      "n:9\n",
      "Enter the element:-9\n",
      "Enter the element:0\n",
      "Enter the element:-4\n",
      "Enter the element:-0\n",
      "Enter the element:9\n",
      "Enter the element:3\n",
      "Enter the element:4\n",
      "Enter the element:-3\n",
      "Enter the element:-9\n",
      "Original list:  [-9, 0, -4, 0, 9, 3, 4, -3, -9]\n",
      "The list of negative numbers:  [-9, -4, -3, -9]\n"
     ]
    }
   ],
   "source": [
    "a=[]\n",
    "b=[]\n",
    "n=int(input(\"n:\"))\n",
    "for i in range(n):\n",
    "    a.append(int(input(\"Enter the element:\")))\n",
    "print(\"Original list: \",a)\n",
    "for i in a:\n",
    "    if i<0:\n",
    "        b.append(i)\n",
    "print(\"The list of negative numbers: \",b)"
   ]
  },
  {
   "cell_type": "markdown",
   "metadata": {},
   "source": [
    "# Python program to print all positive numbers in a range"
   ]
  },
  {
   "cell_type": "code",
   "execution_count": 91,
   "metadata": {},
   "outputs": [
    {
     "name": "stdout",
     "output_type": "stream",
     "text": [
      "Enter the start of range:-9\n",
      "Enter the end of range:4\n",
      "The list of positive numbers between -9 & 4 inclusive is [1, 2, 3, 4]\n"
     ]
    }
   ],
   "source": [
    "a=[]\n",
    "strt=int(input(\"Enter the start of range:\"))\n",
    "end=int(input(\"Enter the end of range:\"))\n",
    "for i in range(strt,end+1):\n",
    "    if i>0:\n",
    "        a.append(i)\n",
    "print(\"The list of positive numbers between\",strt,\"&\",end,\"inclusive is\",a)"
   ]
  },
  {
   "cell_type": "markdown",
   "metadata": {},
   "source": [
    "# Python program to print all negative numbers in a range"
   ]
  },
  {
   "cell_type": "code",
   "execution_count": 93,
   "metadata": {},
   "outputs": [
    {
     "name": "stdout",
     "output_type": "stream",
     "text": [
      "Enter the start of range:-9\n",
      "Enter the end of range:8\n",
      "The list of negative numbers between -9 & 8 inclusive is [-9, -8, -7, -6, -5, -4, -3, -2, -1]\n"
     ]
    }
   ],
   "source": [
    "a=[]\n",
    "strt=int(input(\"Enter the start of range:\"))\n",
    "end=int(input(\"Enter the end of range:\"))\n",
    "for i in range(strt,end+1):\n",
    "    if i<0:\n",
    "        a.append(i)\n",
    "print(\"The list of negative numbers between\",strt,\"&\",end,\"inclusive is\",a)"
   ]
  },
  {
   "cell_type": "markdown",
   "metadata": {},
   "source": [
    "# Python program to count positive and negative numbers in a list"
   ]
  },
  {
   "cell_type": "code",
   "execution_count": 95,
   "metadata": {},
   "outputs": [
    {
     "name": "stdout",
     "output_type": "stream",
     "text": [
      "n:5\n",
      "Enter the element:0\n",
      "Enter the element:-5\n",
      "Enter the element:-9\n",
      "Enter the element:9\n",
      "Enter the element:3\n",
      "Original list:  [0, -5, -9, 9, 3]\n",
      "The count of poistive numbers is 2\n",
      "The count of negative numbers is 2\n"
     ]
    }
   ],
   "source": [
    "a=[]\n",
    "n=int(input(\"n:\"))\n",
    "for i in range(n):\n",
    "    a.append(int(input(\"Enter the element:\")))\n",
    "print(\"Original list: \",a)\n",
    "count1=count2=0\n",
    "for i in a:\n",
    "    if i>0:\n",
    "        count1+=1\n",
    "    elif i<0:\n",
    "        count2+=1\n",
    "print(\"The count of poistive numbers is\",count1)\n",
    "print(\"The count of negative numbers is\",count2)"
   ]
  }
 ],
 "metadata": {
  "kernelspec": {
   "display_name": "Python 3",
   "language": "python",
   "name": "python3"
  },
  "language_info": {
   "codemirror_mode": {
    "name": "ipython",
    "version": 3
   },
   "file_extension": ".py",
   "mimetype": "text/x-python",
   "name": "python",
   "nbconvert_exporter": "python",
   "pygments_lexer": "ipython3",
   "version": "3.7.4"
  }
 },
 "nbformat": 4,
 "nbformat_minor": 2
}
